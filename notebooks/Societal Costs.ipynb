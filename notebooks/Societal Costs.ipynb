{
 "cells": [
  {
   "cell_type": "code",
   "execution_count": 1,
   "id": "9bbebf26",
   "metadata": {},
   "outputs": [],
   "source": [
    "import numpy as np\n",
    "import matplotlib.pyplot as plt\n",
    "import csv\n",
    "import importlib\n",
    "import pandas as pd\n",
    "import matplotlib.gridspec as gridspec\n",
    "import time\n",
    "\n",
    "import sys\n",
    "sys.path.append('../scripts')\n",
    "\n",
    "import sirs\n",
    "import params\n",
    "import plotting\n",
    "from params import cols\n",
    "\n",
    "from pylab import cm\n",
    "import matplotlib as mpl\n",
    "from matplotlib import colors\n",
    "\n",
    "plotting.set_rcParams()"
   ]
  },
  {
   "cell_type": "markdown",
   "id": "67dcc67a",
   "metadata": {},
   "source": [
    "Code will be added shortly "
   ]
  }
 ],
 "metadata": {
  "kernelspec": {
   "display_name": "Python 3 (ipykernel)",
   "language": "python",
   "name": "python3"
  },
  "language_info": {
   "codemirror_mode": {
    "name": "ipython",
    "version": 3
   },
   "file_extension": ".py",
   "mimetype": "text/x-python",
   "name": "python",
   "nbconvert_exporter": "python",
   "pygments_lexer": "ipython3",
   "version": "3.11.5"
  }
 },
 "nbformat": 4,
 "nbformat_minor": 5
}
